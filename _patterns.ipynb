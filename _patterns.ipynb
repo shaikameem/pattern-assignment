{
 "cells": [
  {
   "cell_type": "code",
   "execution_count": 1,
   "id": "390554d1",
   "metadata": {},
   "outputs": [],
   "source": [
    "## pyramid"
   ]
  },
  {
   "cell_type": "code",
   "execution_count": 1,
   "id": "495ad229",
   "metadata": {},
   "outputs": [
    {
     "name": "stdout",
     "output_type": "stream",
     "text": [
      "enter the number:10\n",
      "         * \n",
      "         * * \n",
      "         * * * \n",
      "         * * * * \n",
      "         * * * * * \n",
      "         * * * * * * \n",
      "         * * * * * * * \n",
      "         * * * * * * * * \n",
      "         * * * * * * * * * \n",
      "         * * * * * * * * * * \n"
     ]
    }
   ],
   "source": [
    "n=int(input(\"enter the number:\"))\n",
    "for i in range(1,n+1):\n",
    "    print((n-1)*\" \"+(\"* \"*i))"
   ]
  },
  {
   "cell_type": "code",
   "execution_count": 3,
   "id": "84428409",
   "metadata": {},
   "outputs": [],
   "source": [
    "## reverse pyramid "
   ]
  },
  {
   "cell_type": "code",
   "execution_count": 7,
   "id": "fa271e31",
   "metadata": {},
   "outputs": [
    {
     "name": "stdout",
     "output_type": "stream",
     "text": [
      "enter the number:10\n",
      " * * * * * * * * * \n",
      "  * * * * * * * * \n",
      "   * * * * * * * \n",
      "    * * * * * * \n",
      "     * * * * * \n",
      "      * * * * \n",
      "       * * * \n",
      "        * * \n",
      "         * \n",
      "          \n"
     ]
    }
   ],
   "source": [
    "n=int(input(\"enter the number:\"))\n",
    "for i in range(1,n+1):\n",
    "    print((i)*\" \"+(n-i)*\"* \")"
   ]
  },
  {
   "cell_type": "code",
   "execution_count": 5,
   "id": "51c516c9",
   "metadata": {},
   "outputs": [],
   "source": [
    "## left angle triangle"
   ]
  },
  {
   "cell_type": "code",
   "execution_count": 6,
   "id": "373a67d9",
   "metadata": {},
   "outputs": [
    {
     "name": "stdout",
     "output_type": "stream",
     "text": [
      "enter the number:10\n",
      "*\n",
      "**\n",
      "***\n",
      "****\n",
      "*****\n",
      "******\n",
      "*******\n",
      "********\n",
      "*********\n",
      "**********\n"
     ]
    }
   ],
   "source": [
    "n=int(input(\"enter the number:\"))\n",
    "for i in range(1,n+1):\n",
    "    print((i)*\"*\")"
   ]
  },
  {
   "cell_type": "code",
   "execution_count": 15,
   "id": "6dcf8e5e",
   "metadata": {},
   "outputs": [],
   "source": [
    "## reverse  right angle traingle"
   ]
  },
  {
   "cell_type": "code",
   "execution_count": 16,
   "id": "6eca4372",
   "metadata": {},
   "outputs": [
    {
     "name": "stdout",
     "output_type": "stream",
     "text": [
      "enter the number:10\n",
      "**********\n",
      " *********\n",
      "  ********\n",
      "   *******\n",
      "    ******\n",
      "     *****\n",
      "      ****\n",
      "       ***\n",
      "        **\n",
      "         *\n"
     ]
    }
   ],
   "source": [
    "n=int(input(\"enter the number:\"))\n",
    "for i in range(n,0,-1):\n",
    "    left_spaces=(n-i)*\" \"\n",
    "    print(left_spaces+\"*\"*i)"
   ]
  },
  {
   "cell_type": "code",
   "execution_count": 17,
   "id": "6e83166e",
   "metadata": {},
   "outputs": [],
   "source": [
    "## numbers traiangle"
   ]
  },
  {
   "cell_type": "code",
   "execution_count": 18,
   "id": "24f96a9b",
   "metadata": {},
   "outputs": [
    {
     "name": "stdout",
     "output_type": "stream",
     "text": [
      "enter the number:10\n",
      "1\n",
      "22\n",
      "333\n",
      "4444\n",
      "55555\n",
      "666666\n",
      "7777777\n",
      "88888888\n",
      "999999999\n",
      "10101010101010101010\n"
     ]
    }
   ],
   "source": [
    "n=int(input(\"enter the number:\"))\n",
    "for i in range(1,n+1):\n",
    "    for j in range(i):\n",
    "        print(i,end=\"\")\n",
    "    print(\"\")"
   ]
  },
  {
   "cell_type": "code",
   "execution_count": 1,
   "id": "c1e3370d",
   "metadata": {},
   "outputs": [
    {
     "name": "stdout",
     "output_type": "stream",
     "text": [
      "****************"
     ]
    }
   ],
   "source": [
    "for i in range(4):\n",
    "    for j in range(4):\n",
    "        print(\"*\",end=\"\")"
   ]
  },
  {
   "cell_type": "code",
   "execution_count": 2,
   "id": "bd0d2a3f",
   "metadata": {},
   "outputs": [
    {
     "name": "stdout",
     "output_type": "stream",
     "text": [
      "****\n",
      "****\n",
      "****\n",
      "****\n"
     ]
    }
   ],
   "source": [
    "for i in range(4):\n",
    "    for j in range(4):\n",
    "        print(\"*\",end=\"\")\n",
    "    print()"
   ]
  },
  {
   "cell_type": "code",
   "execution_count": 3,
   "id": "6c78a18f",
   "metadata": {},
   "outputs": [
    {
     "name": "stdout",
     "output_type": "stream",
     "text": [
      "1111\n",
      "1111\n",
      "1111\n",
      "1111\n"
     ]
    }
   ],
   "source": [
    "for i in range(1,5): #i=1\n",
    "    for j in range(1,5):\n",
    "        print(1,end=\"\")\n",
    "    print()"
   ]
  },
  {
   "cell_type": "code",
   "execution_count": 4,
   "id": "aaa09ff8",
   "metadata": {},
   "outputs": [
    {
     "name": "stdout",
     "output_type": "stream",
     "text": [
      "enter number for the square pattern : 5\n",
      "*****\n",
      "*****\n",
      "*****\n",
      "*****\n",
      "*****\n"
     ]
    }
   ],
   "source": [
    "n=int(input(\"enter number for the square pattern : \")) #5\n",
    "for i in range(n):\n",
    "    for j in range(n):\n",
    "        print(\"*\",end=\"\")\n",
    "    print()"
   ]
  },
  {
   "cell_type": "code",
   "execution_count": 5,
   "id": "3c14c91a",
   "metadata": {},
   "outputs": [
    {
     "name": "stdout",
     "output_type": "stream",
     "text": [
      "enter number for the square pattern : 5\n",
      "12345\n",
      "12345\n",
      "12345\n",
      "12345\n",
      "12345\n"
     ]
    }
   ],
   "source": [
    "n=int(input(\"enter number for the square pattern : \")) #5\n",
    "for i in range(1,n+1):\n",
    "    for j in range(1,n+1):\n",
    "        print(j,end=\"\")\n",
    "    print()"
   ]
  },
  {
   "cell_type": "code",
   "execution_count": 6,
   "id": "0b1555d6",
   "metadata": {},
   "outputs": [
    {
     "name": "stdout",
     "output_type": "stream",
     "text": [
      "enter number for the square pattern : 5\n",
      "*\n",
      "**\n",
      "***\n",
      "****\n",
      "*****\n"
     ]
    }
   ],
   "source": [
    "n=int(input(\"enter number for the square pattern : \")) #5\n",
    "for i in range(1,n+1): #range 1,2,3,4,5 end-1\n",
    "    for j in range(1,i+1): #range(1,4)\n",
    "        print(\"*\",end=\"\")\n",
    "    print()"
   ]
  },
  {
   "cell_type": "code",
   "execution_count": 7,
   "id": "2e5bf9c7",
   "metadata": {},
   "outputs": [
    {
     "name": "stdout",
     "output_type": "stream",
     "text": [
      "enter the number pattern : 5\n",
      "1234\n",
      "1234\n",
      "1234\n",
      "1234\n"
     ]
    }
   ],
   "source": [
    "n=int(input(\"enter the number pattern : \")) \n",
    "for i in range(1,n):\n",
    "    for j in range(1,n):\n",
    "        print(j,end=\"\")\n",
    "    print()"
   ]
  },
  {
   "cell_type": "code",
   "execution_count": 8,
   "id": "fbb140b9",
   "metadata": {},
   "outputs": [
    {
     "name": "stdout",
     "output_type": "stream",
     "text": [
      "enter the number pattern : 5\n",
      "4444\n",
      "3333\n",
      "2222\n",
      "1111\n"
     ]
    }
   ],
   "source": [
    "n=int(input(\"enter the number pattern : \")) \n",
    "for i in range(n-1,0,-1):\n",
    "    for j in range(1,n):\n",
    "        print(i,end=\"\")\n",
    "    print()"
   ]
  },
  {
   "cell_type": "code",
   "execution_count": null,
   "id": "19b9569e",
   "metadata": {},
   "outputs": [],
   "source": []
  }
 ],
 "metadata": {
  "kernelspec": {
   "display_name": "Python 3 (ipykernel)",
   "language": "python",
   "name": "python3"
  },
  "language_info": {
   "codemirror_mode": {
    "name": "ipython",
    "version": 3
   },
   "file_extension": ".py",
   "mimetype": "text/x-python",
   "name": "python",
   "nbconvert_exporter": "python",
   "pygments_lexer": "ipython3",
   "version": "3.10.9"
  }
 },
 "nbformat": 4,
 "nbformat_minor": 5
}
